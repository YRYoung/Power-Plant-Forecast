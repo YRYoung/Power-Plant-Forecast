{
 "cells": [
  {
   "cell_type": "code",
   "execution_count": 1,
   "metadata": {
    "colab": {
     "base_uri": "https://localhost:8080/",
     "height": 53
    },
    "id": "lQL4ZCHz3mAH",
    "executionInfo": {
     "status": "ok",
     "timestamp": 1687637391099,
     "user_tz": -60,
     "elapsed": 2151,
     "user": {
      "displayName": "游润洋",
      "userId": "11419507463549379567"
     }
    },
    "outputId": "a5c329d7-390d-4ccc-a705-c627aa68210b"
   },
   "outputs": [
    {
     "output_type": "stream",
     "name": "stdout",
     "text": [
      "Drive already mounted at /content/drive/; to attempt to forcibly remount, call drive.mount(\"/content/drive/\", force_remount=True).\n"
     ]
    },
    {
     "output_type": "execute_result",
     "data": {
      "text/plain": [
       "'/content/drive/MyDrive/Times-Series-Library'"
      ],
      "application/vnd.google.colaboratory.intrinsic+json": {
       "type": "string"
      }
     },
     "metadata": {},
     "execution_count": 1
    }
   ],
   "source": [
    "import os\n",
    "\n",
    "from google.colab import drive\n",
    "drive.mount('/content/drive/')\n",
    "\n",
    "os.chdir('/content/drive/MyDrive/Times-Series-Library/')\n",
    "os.getcwd()"
   ]
  },
  {
   "cell_type": "code",
   "source": [
    "!pip install -r requirements.txt"
   ],
   "metadata": {
    "id": "TMLm7pPR309a"
   },
   "execution_count": null,
   "outputs": []
  },
  {
   "cell_type": "code",
   "execution_count": 2,
   "metadata": {
    "colab": {
     "base_uri": "https://localhost:8080/"
    },
    "id": "M4dtxoPc3mAX",
    "executionInfo": {
     "status": "ok",
     "timestamp": 1687637391432,
     "user_tz": -60,
     "elapsed": 7,
     "user": {
      "displayName": "游润洋",
      "userId": "11419507463549379567"
     }
    },
    "outputId": "8ed564fc-031c-4479-8647-614dccef6b52"
   },
   "outputs": [
    {
     "output_type": "stream",
     "name": "stdout",
     "text": [
      "model_ID1_run_000@iter0\n",
      "model_new_model_run_new_run_1@iter0\n",
      "model_ID1_run_003@iter0\n"
     ]
    }
   ],
   "source": [
    "trials = os.listdir('./results')\n",
    "print(*trials, sep='\\n')"
   ]
  },
  {
   "cell_type": "code",
   "source": [
    "import numpy as np\n",
    "import pandas as pd\n",
    "import plotly.express as px"
   ],
   "metadata": {
    "id": "N6BS4sYx4GXT",
    "executionInfo": {
     "status": "ok",
     "timestamp": 1687637393422,
     "user_tz": -60,
     "elapsed": 1444,
     "user": {
      "displayName": "游润洋",
      "userId": "11419507463549379567"
     }
    }
   },
   "execution_count": 3,
   "outputs": []
  },
  {
   "cell_type": "code",
   "execution_count": 23,
   "metadata": {
    "id": "Osf6CPjn3mAb",
    "executionInfo": {
     "status": "ok",
     "timestamp": 1687639360729,
     "user_tz": -60,
     "elapsed": 479,
     "user": {
      "displayName": "游润洋",
      "userId": "11419507463549379567"
     }
    }
   },
   "outputs": [],
   "source": [
    "save_dir='results/' + trials[2] + '/test'\n",
    "result_df = pd.read_csv(f'{save_dir}/result_df.csv', index_col=0)\n",
    "result_df.index = pd.to_datetime(result_df.index)\n"
   ]
  },
  {
   "cell_type": "code",
   "execution_count": 24,
   "metadata": {
    "id": "Lgu-ekrs3mAe",
    "executionInfo": {
     "status": "ok",
     "timestamp": 1687639362596,
     "user_tz": -60,
     "elapsed": 10,
     "user": {
      "displayName": "游润洋",
      "userId": "11419507463549379567"
     }
    }
   },
   "outputs": [],
   "source": [
    "def plot(df, title=None, save=False):\n",
    "  fig = px.line(df, template='plotly_white')\n",
    "  fig.update_yaxes(title_text='')\n",
    "  fig.update_xaxes(title_text='')\n",
    "  fig.update_layout(hovermode='x unified',\n",
    "                    title_text=title,title_x=.5,\n",
    "                    legend=dict(orientation=\"h\", title_text=''))\n",
    "  if save:\n",
    "    fig.write_image(f\"{save_dir}/{title}.png\")\n",
    "  return fig\n"
   ]
  },
  {
   "cell_type": "code",
   "source": [
    "plot(result_df, title='result')"
   ],
   "metadata": {
    "colab": {
     "base_uri": "https://localhost:8080/",
     "height": 542,
     "output_embedded_package_id": "1wrzq6MG-zKFk-jx16EnU9e5jH6F01sGN"
    },
    "id": "XzZReslz5944",
    "executionInfo": {
     "status": "ok",
     "timestamp": 1687639406930,
     "user_tz": -60,
     "elapsed": 19774,
     "user": {
      "displayName": "游润洋",
      "userId": "11419507463549379567"
     }
    },
    "outputId": "0fe8cbde-18d9-4942-dee6-fc0d97f8b87f"
   },
   "execution_count": 26,
   "outputs": [
    {
     "output_type": "display_data",
     "data": {
      "text/plain": "Output hidden; open in https://colab.research.google.com to view."
     },
     "metadata": {}
    }
   ]
  },
  {
   "cell_type": "code",
   "execution_count": 33,
   "metadata": {
    "colab": {
     "base_uri": "https://localhost:8080/",
     "height": 542,
     "output_embedded_package_id": "1dAHM6fkS3ZmPaN3A7aGMYpL6tMq9i2IG"
    },
    "id": "cvgoivI_3mAi",
    "executionInfo": {
     "status": "ok",
     "timestamp": 1687639644132,
     "user_tz": -60,
     "elapsed": 18785,
     "user": {
      "displayName": "游润洋",
      "userId": "11419507463549379567"
     }
    },
    "outputId": "0707ce23-cdb3-40d4-b5ff-c7c8868d05e4"
   },
   "outputs": [
    {
     "output_type": "display_data",
     "data": {
      "text/plain": "Output hidden; open in https://colab.research.google.com to view."
     },
     "metadata": {}
    }
   ],
   "source": [
    "clipped_df = result_df.copy(deep=True)\n",
    "\n",
    "\n",
    "after = clipped_df.loc['2020-03-01':, :]\n",
    "clipped_df.loc[:, 'prediction'] = np.clip(clipped_df.prediction.values, after.target.min(), after.target.max())\n",
    "\n",
    "\n",
    "plot(clipped_df, title='clipped result')\n"
   ]
  },
  {
   "cell_type": "code",
   "execution_count": 28,
   "metadata": {
    "colab": {
     "base_uri": "https://localhost:8080/",
     "height": 542,
     "output_embedded_package_id": "19-Z1mB-YU0rbgi9zSQRTs-23YP-aPQ0P"
    },
    "id": "XjlaHYDD3mAl",
    "executionInfo": {
     "status": "ok",
     "timestamp": 1687639472851,
     "user_tz": -60,
     "elapsed": 327,
     "user": {
      "displayName": "游润洋",
      "userId": "11419507463549379567"
     }
    },
    "outputId": "15e5f18e-6c3b-421f-e05a-363e9cceef74"
   },
   "outputs": [
    {
     "output_type": "display_data",
     "data": {
      "text/plain": "Output hidden; open in https://colab.research.google.com to view."
     },
     "metadata": {}
    }
   ],
   "source": [
    "error_df = pd.concat([result_df.iloc[:, 1] - result_df.iloc[:, 0],\n",
    "                      clipped_df.iloc[:, 1] - clipped_df.iloc[:, 0]],\n",
    "                     axis='columns').dropna()\n",
    "error_df.columns = ['min-level output', '30 mins averange output']\n",
    "plot(error_df, title='error')"
   ]
  },
  {
   "cell_type": "code",
   "source": [
    "error_pct_df = error_df.copy(deep=True)\n",
    "error_pct_df.iloc[:,0]=error_pct_df.iloc[:,0].values / result_df.dropna().target.values\n",
    "error_pct_df.iloc[:,1]=error_pct_df.iloc[:,0].values / result_df.dropna().target.values\n",
    "fig = plot(error_pct_df, title='error percentage')\n",
    "fig.update_yaxes(tickformat = '.0%')"
   ],
   "metadata": {
    "colab": {
     "base_uri": "https://localhost:8080/",
     "height": 542,
     "output_embedded_package_id": "1iRA1Cg7JTbBE-zyoU8YZ7XfHYKXH4i05"
    },
    "id": "KPv_wHcE_ddK",
    "executionInfo": {
     "status": "ok",
     "timestamp": 1687639472853,
     "user_tz": -60,
     "elapsed": 247,
     "user": {
      "displayName": "游润洋",
      "userId": "11419507463549379567"
     }
    },
    "outputId": "cc098bca-c021-4920-9299-4e18699529f4"
   },
   "execution_count": 29,
   "outputs": [
    {
     "output_type": "display_data",
     "data": {
      "text/plain": "Output hidden; open in https://colab.research.google.com to view."
     },
     "metadata": {}
    }
   ]
  },
  {
   "cell_type": "code",
   "execution_count": 30,
   "metadata": {
    "colab": {
     "base_uri": "https://localhost:8080/",
     "height": 542,
     "output_embedded_package_id": "18q_5zS4DjjZrCRLKt8zrhvGclXOEn6ct"
    },
    "id": "nLr7ORki3mAp",
    "executionInfo": {
     "status": "ok",
     "timestamp": 1687639490858,
     "user_tz": -60,
     "elapsed": 18147,
     "user": {
      "displayName": "游润洋",
      "userId": "11419507463549379567"
     }
    },
    "outputId": "bc0d320f-3a98-4314-be6d-8de4e55b44b9"
   },
   "outputs": [
    {
     "output_type": "display_data",
     "data": {
      "text/plain": "Output hidden; open in https://colab.research.google.com to view."
     },
     "metadata": {}
    }
   ],
   "source": [
    "plot(result_df.resample('30min').mean(), title='30 mins averange result')"
   ]
  },
  {
   "cell_type": "code",
   "source": [
    "plot(clipped_df.resample('30min').mean(), title='clipped 30 mins averange result')"
   ],
   "metadata": {
    "colab": {
     "base_uri": "https://localhost:8080/",
     "height": 542,
     "output_embedded_package_id": "1tnFBsM-hB4_xdO9pv8rF36v6y4hx3vXv"
    },
    "id": "OEw-H7QbGxTE",
    "executionInfo": {
     "status": "ok",
     "timestamp": 1687639770824,
     "user_tz": -60,
     "elapsed": 8929,
     "user": {
      "displayName": "游润洋",
      "userId": "11419507463549379567"
     }
    },
    "outputId": "eb1fb0ae-6941-4170-b84c-7c63eb942c30"
   },
   "execution_count": 34,
   "outputs": [
    {
     "output_type": "display_data",
     "data": {
      "text/plain": "Output hidden; open in https://colab.research.google.com to view."
     },
     "metadata": {}
    }
   ]
  },
  {
   "cell_type": "code",
   "source": [],
   "metadata": {
    "id": "_PVEaC7pIzJj"
   },
   "execution_count": null,
   "outputs": []
  }
 ],
 "metadata": {
  "language_info": {
   "name": "python"
  },
  "orig_nbformat": 4,
  "colab": {
   "provenance": []
  },
  "kernelspec": {
   "name": "python3",
   "display_name": "Python 3"
  }
 },
 "nbformat": 4,
 "nbformat_minor": 0
}
