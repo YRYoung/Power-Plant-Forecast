{
 "nbformat": 4,
 "nbformat_minor": 0,
 "metadata": {
  "colab": {
   "provenance": [
    {
     "file_id": "1wyEyKZl1fLkxg7yy0f9ld4YAFl9X6712",
     "timestamp": 1687548226741
    }
   ],
   "authorship_tag": "ABX9TyOahdKgUOkBdGbJYWB6vRt1"
  },
  "kernelspec": {
   "name": "python3",
   "language": "python",
   "display_name": "Python 3 (ipykernel)"
  },
  "language_info": {
   "name": "python"
  }
 },
 "cells": [
  {
   "cell_type": "code",
   "execution_count": 1,
   "metadata": {
    "colab": {
     "base_uri": "https://localhost:8080/",
     "height": 53
    },
    "id": "fA_Ww9xFRyKq",
    "executionInfo": {
     "status": "ok",
     "timestamp": 1687626947959,
     "user_tz": -60,
     "elapsed": 14325,
     "user": {
      "displayName": "游润洋",
      "userId": "11419507463549379567"
     }
    },
    "outputId": "9847ed68-14a6-4aaf-8367-c29a403ba3a9",
    "ExecuteTime": {
     "end_time": "2023-06-26T00:09:37.476550300Z",
     "start_time": "2023-06-26T00:09:37.466521800Z"
    }
   },
   "outputs": [
    {
     "data": {
      "text/plain": "'C:\\\\Users\\\\BubbleTea\\\\Desktop\\\\Energy Forcasting\\\\Time-Series-Library'"
     },
     "execution_count": 1,
     "metadata": {},
     "output_type": "execute_result"
    }
   ],
   "source": [
    "import os\n",
    "\n",
    "# from google.colab import drive\n",
    "# drive.mount('/content/drive/')\n",
    "os.chdir('..')\n",
    "# os.chdir('/content/drive/MyDrive/Times-Series-Library/')\n",
    "os.getcwd()"
   ]
  },
  {
   "cell_type": "code",
   "source": [
    "!pip install -r requirements.txt"
   ],
   "metadata": {
    "id": "4EThJL0IR1PQ"
   },
   "execution_count": null,
   "outputs": []
  },
  {
   "cell_type": "markdown",
   "source": [],
   "metadata": {
    "id": "kRRjp0-bcQyn"
   }
  },
  {
   "cell_type": "markdown",
   "source": [
    "# Training"
   ],
   "metadata": {
    "id": "NEMEGqwi0AmJ"
   }
  },
  {
   "cell_type": "markdown",
   "source": [
    "Train a new model:"
   ],
   "metadata": {
    "id": "AsraGo2rKZZ3"
   }
  },
  {
   "cell_type": "code",
   "source": [
    "!python -u run.py --train --model_id new_model --run_id new_run --no-neptune"
   ],
   "metadata": {
    "id": "K4MkdmIFzil3"
   },
   "execution_count": null,
   "outputs": []
  },
  {
   "cell_type": "markdown",
   "source": [
    "Training might take too long on Colab without GPU, add `--debug` to see the 'mock' training result on a mini subset:"
   ],
   "metadata": {
    "id": "wqt7sQrZ0L5i"
   }
  },
  {
   "cell_type": "code",
   "source": [
    "!python -u run.py --train --model_id new_model --run_id new_run_1 --no-neptune --debug"
   ],
   "metadata": {
    "colab": {
     "base_uri": "https://localhost:8080/"
    },
    "id": "KNbnKUIB0IDR",
    "executionInfo": {
     "status": "ok",
     "timestamp": 1687590718335,
     "user_tz": -60,
     "elapsed": 4207722,
     "user": {
      "displayName": "游润洋",
      "userId": "11419507463549379567"
     }
    },
    "outputId": "2a931415-16d6-4412-8056-5950fa2b7f08"
   },
   "execution_count": 12,
   "outputs": [
    {
     "output_type": "stream",
     "name": "stdout",
     "text": [
      "New model loaded on cpu\n",
      "val/test_len: 73 | train_len: 223\n",
      ">>>>>>>>>>>>>>>training : model_new_model_run_new_run_1@iter0>>>>>>>>>>>>>>>\n",
      "Epoch: 0 | validating... | 00:00:33\n",
      "Epoch: 0 | Train Loss: 1.4187353, Vali Loss: 1.3201882, Test Loss: 1.1025535 | 00:02:13\n",
      "Epoch: 0 | Validation loss decreased (inf --> 1.320188). Saving model ...\n",
      "Epoch: 1 | validating... | 00:00:27\n",
      "Epoch: 1 | Train Loss: 1.2127151, Vali Loss: 1.1620841, Test Loss: 0.9611840 | 00:02:06\n",
      "Epoch: 1 | Validation loss decreased (1.320188 --> 1.162084). Saving model ...\n",
      "Epoch: 2 | validating... | 00:00:27\n",
      "Epoch: 2 | Train Loss: 1.0815762, Vali Loss: 1.0273634, Test Loss: 0.8526125 | 00:02:07\n",
      "Epoch: 2 | Validation loss decreased (1.162084 --> 1.027363). Saving model ...\n",
      "Epoch: 3 | validating... | 00:00:25\n",
      "Epoch: 3 | Train Loss: 0.9504391, Vali Loss: 0.9128584, Test Loss: 0.7800351 | 00:02:02\n",
      "Epoch: 3 | Validation loss decreased (1.027363 --> 0.912858). Saving model ...\n",
      "Epoch: 4 | validating... | 00:00:29\n",
      "Epoch: 4 | Train Loss: 0.8709435, Vali Loss: 0.8544145, Test Loss: 0.7423386 | 00:02:01\n",
      "Epoch: 4 | Validation loss decreased (0.912858 --> 0.854415). Saving model ...\n",
      "Epoch: 5 | validating... | 00:00:29\n",
      "Epoch: 5 | Train Loss: 0.8063906, Vali Loss: 0.8085743, Test Loss: 0.6863160 | 00:02:00\n",
      "Epoch: 5 | Validation loss decreased (0.854415 --> 0.808574). Saving model ...\n",
      "Epoch: 6 | validating... | 00:00:28\n",
      "Epoch: 6 | Train Loss: 0.7434099, Vali Loss: 0.7782016, Test Loss: 0.6199513 | 00:02:02\n",
      "Epoch: 6 | Validation loss decreased (0.808574 --> 0.778202). Saving model ...\n",
      "Epoch: 7 | validating... | 00:00:29\n",
      "Epoch: 7 | Train Loss: 0.6754309, Vali Loss: 0.7496065, Test Loss: 0.5657489 | 00:02:06\n",
      "Epoch: 7 | Validation loss decreased (0.778202 --> 0.749607). Saving model ...\n",
      "Epoch: 8 | validating... | 00:00:29\n",
      "Epoch: 8 | Train Loss: 0.6375809, Vali Loss: 0.7204602, Test Loss: 0.5278298 | 00:02:08\n",
      "Epoch: 8 | Validation loss decreased (0.749607 --> 0.720460). Saving model ...\n",
      "Epoch: 9 | validating... | 00:00:29\n",
      "Epoch: 9 | Train Loss: 0.5933802, Vali Loss: 0.7018161, Test Loss: 0.4894433 | 00:02:05\n",
      "Epoch: 9 | Validation loss decreased (0.720460 --> 0.701816). Saving model ...\n",
      "Epoch: 10 | validating... | 00:00:29\n",
      "Epoch: 10 | Train Loss: 0.5512080, Vali Loss: 0.6834810, Test Loss: 0.4610436 | 00:02:06\n",
      "Epoch: 10 | Validation loss decreased (0.701816 --> 0.683481). Saving model ...\n",
      "Epoch: 11 | validating... | 00:00:30\n",
      "Epoch: 11 | Train Loss: 0.5228407, Vali Loss: 0.6557117, Test Loss: 0.4486237 | 00:02:06\n",
      "Epoch: 11 | Validation loss decreased (0.683481 --> 0.655712). Saving model ...\n",
      "Epoch: 12 | validating... | 00:00:32\n",
      "Epoch: 12 | Train Loss: 0.4775524, Vali Loss: 0.6383729, Test Loss: 0.4390041 | 00:02:04\n",
      "Epoch: 12 | Validation loss decreased (0.655712 --> 0.638373). Saving model ...\n",
      "Epoch: 13 | validating... | 00:00:28\n",
      "Epoch: 13 | Train Loss: 0.4388094, Vali Loss: 0.6313594, Test Loss: 0.4230492 | 00:02:01\n",
      "Epoch: 13 | Validation loss decreased (0.638373 --> 0.631359). Saving model ...\n",
      "Epoch: 14 | validating... | 00:00:29\n",
      "Epoch: 14 | Train Loss: 0.4200658, Vali Loss: 0.6150647, Test Loss: 0.4063860 | 00:02:05\n",
      "Epoch: 14 | Validation loss decreased (0.631359 --> 0.615065). Saving model ...\n",
      "Epoch: 15 | validating... | 00:00:30\n",
      "Epoch: 15 | Train Loss: 0.4214432, Vali Loss: 0.5960725, Test Loss: 0.3981408 | 00:02:06\n",
      "Epoch: 15 | Validation loss decreased (0.615065 --> 0.596072). Saving model ...\n",
      "Epoch: 16 | validating... | 00:00:32\n",
      "Epoch: 16 | Train Loss: 0.3843465, Vali Loss: 0.5735067, Test Loss: 0.3875394 | 00:02:05\n",
      "Epoch: 16 | Validation loss decreased (0.596072 --> 0.573507). Saving model ...\n",
      "Epoch: 17 | validating... | 00:00:25\n",
      "Epoch: 17 | Train Loss: 0.3572975, Vali Loss: 0.5609906, Test Loss: 0.3858330 | 00:01:59\n",
      "Epoch: 17 | Validation loss decreased (0.573507 --> 0.560991). Saving model ...\n",
      "Epoch: 18 | validating... | 00:00:27\n",
      "Epoch: 18 | Train Loss: 0.3339114, Vali Loss: 0.5544131, Test Loss: 0.3821724 | 00:02:04\n",
      "Epoch: 18 | Validation loss decreased (0.560991 --> 0.554413). Saving model ...\n",
      "Epoch: 19 | validating... | 00:00:28\n",
      "Epoch: 19 | Train Loss: 0.3115915, Vali Loss: 0.5342814, Test Loss: 0.3720953 | 00:02:02\n",
      "Epoch: 19 | Validation loss decreased (0.554413 --> 0.534281). Saving model ...\n",
      "Epoch: 20 | validating... | 00:00:32\n",
      "Epoch: 20 | Train Loss: 0.2955055, Vali Loss: 0.5198724, Test Loss: 0.3728129 | 00:02:02\n",
      "Epoch: 20 | Validation loss decreased (0.534281 --> 0.519872). Saving model ...\n",
      "Epoch: 21 | validating... | 00:00:28\n",
      "Epoch: 21 | Train Loss: 0.2907448, Vali Loss: 0.5055658, Test Loss: 0.3664825 | 00:02:02\n",
      "Epoch: 21 | Validation loss decreased (0.519872 --> 0.505566). Saving model ...\n",
      "Epoch: 22 | validating... | 00:00:29\n",
      "Epoch: 22 | Train Loss: 0.2684656, Vali Loss: 0.4954536, Test Loss: 0.3631612 | 00:02:03\n",
      "Epoch: 22 | Validation loss decreased (0.505566 --> 0.495454). Saving model ...\n",
      "Epoch: 23 | validating... | 00:00:28\n",
      "Epoch: 23 | Train Loss: 0.2635321, Vali Loss: 0.4965056, Test Loss: 0.3694595 | 00:02:03\n",
      "Epoch: 23 | EarlyStopping counter: 1 out of 3\n",
      "Epoch: 24 | validating... | 00:00:28\n",
      "Epoch: 24 | Train Loss: 0.2469774, Vali Loss: 0.4822464, Test Loss: 0.3597526 | 00:01:60\n",
      "Epoch: 24 | Validation loss decreased (0.495454 --> 0.482246). Saving model ...\n",
      "Epoch: 25 | validating... | 00:00:24\n",
      "Epoch: 25 | Train Loss: 0.2373935, Vali Loss: 0.4774879, Test Loss: 0.3617281 | 00:01:57\n",
      "Epoch: 25 | Validation loss decreased (0.482246 --> 0.477488). Saving model ...\n",
      "Epoch: 26 | validating... | 00:00:25\n",
      "Epoch: 26 | Train Loss: 0.2262049, Vali Loss: 0.4759772, Test Loss: 0.3535295 | 00:02:03\n",
      "Epoch: 26 | Validation loss decreased (0.477488 --> 0.475977). Saving model ...\n",
      "Epoch: 27 | validating... | 00:00:28\n",
      "Epoch: 27 | Train Loss: 0.2279312, Vali Loss: 0.4725756, Test Loss: 0.3538080 | 00:02:05\n",
      "Epoch: 27 | Validation loss decreased (0.475977 --> 0.472576). Saving model ...\n",
      "Epoch: 28 | validating... | 00:00:25\n",
      "Epoch: 28 | Train Loss: 0.2140360, Vali Loss: 0.4622836, Test Loss: 0.3513301 | 00:01:60\n",
      "Epoch: 28 | Validation loss decreased (0.472576 --> 0.462284). Saving model ...\n",
      "Epoch: 29 | validating... | 00:00:25\n",
      "Epoch: 29 | Train Loss: 0.1952562, Vali Loss: 0.4558368, Test Loss: 0.3531838 | 00:02:00\n",
      "Epoch: 29 | Validation loss decreased (0.462284 --> 0.455837). Saving model ...\n",
      "Epoch: 30 | validating... | 00:00:26\n",
      "Epoch: 30 | Train Loss: 0.2013911, Vali Loss: 0.4543772, Test Loss: 0.3504490 | 00:02:01\n",
      "Epoch: 30 | Validation loss decreased (0.455837 --> 0.454377). Saving model ...\n",
      "Epoch: 31 | validating... | 00:00:26\n",
      "Epoch: 31 | Train Loss: 0.1974140, Vali Loss: 0.4559548, Test Loss: 0.3475806 | 00:02:02\n",
      "Epoch: 31 | EarlyStopping counter: 1 out of 3\n",
      "Epoch: 32 | validating... | 00:00:25\n",
      "Epoch: 32 | Train Loss: 0.1839235, Vali Loss: 0.4589963, Test Loss: 0.3496884 | 00:02:02\n",
      "Epoch: 32 | EarlyStopping counter: 2 out of 3\n",
      "Epoch: 33 | validating... | 00:00:25\n",
      "Epoch: 33 | Train Loss: 0.1788355, Vali Loss: 0.4586937, Test Loss: 0.3462667 | 00:01:59\n",
      "Epoch: 33 | EarlyStopping counter: 3 out of 3\n",
      "Epoch: 33 | Early stopping\n",
      ">>>>>>>>>>>>>>>testing : model_new_model_run_new_run_1@iter0>>>>>>>>>>>>>>>\n",
      "Testing on cpu\n",
      "Test: 100% 2/2 [00:12<00:00,  6.10s/batch]\n",
      "Average Interference speed: 6.09993sample/s\n",
      "\n",
      "de_standardized:\n",
      "mae: 25.4913\n",
      "mse: 1480.6193\n",
      "rmse: 38.4788\n"
     ]
    }
   ]
  },
  {
   "cell_type": "markdown",
   "source": [
    "# Testing"
   ],
   "metadata": {
    "id": "-aHVMJBLKb93"
   }
  },
  {
   "cell_type": "markdown",
   "source": [
    "\n",
    "Model will be tested after completing training, generating results in the folder:\n",
    "\n",
    "\\results\\model_`$model_id$`_run_`$run_id$`@iter0\n",
    "\n",
    "- model checkpoints are stored in `\\checkpoints\\`\n",
    "- testing results, listed as follow, are stored in `\\test\\`\n",
    "\n",
    "| file        | description                                                |\n",
    "| ----------- |------------------------------------------------------------|\n",
    "| result.pdf  | plot of testing result with de-normalized data             |\n",
    "| result_df.csv | stored the prediction and the target values, date as index |\n",
    "| metrics.json | stored the testing metrics                                 |\n",
    "\n",
    "\n",
    "You can always re-test a trained model, but notice that the previous testing results will be overwritten.\n",
    "\n",
    "E.g., The testing result of the pre-trained model with model_id = `ID1` and run_id = `000` is already saved in \\results\\model_ID1_run_000@iter0\\"
   ],
   "metadata": {
    "id": "_qSJ11gGAop5"
   }
  },
  {
   "cell_type": "markdown",
   "source": [
    "See the re-test result of the just trained 'debug' model:"
   ],
   "metadata": {
    "id": "I-HVWn6xAdP5"
   }
  },
  {
   "cell_type": "code",
   "source": [
    "!python -u run.py --no-train --model_id new_model --run_id new_run_1 --no-neptune --debug"
   ],
   "metadata": {
    "id": "RHZwA45uAlCO"
   },
   "execution_count": null,
   "outputs": []
  },
  {
   "cell_type": "markdown",
   "source": [
    "# Continue Training"
   ],
   "metadata": {
    "id": "ljAgO-cbKC6T"
   }
  },
  {
   "cell_type": "markdown",
   "source": [
    "The trained model can be trained again with same (not recommended) / different dataset\n",
    "\n",
    "The new data should be pre-processed as in `Data Prepocessing.ipynb` and generate the new CSV file, e.g., `/new_dataset/power_2.csv'"
   ],
   "metadata": {
    "id": "r8qBA5SgKfrw"
   }
  },
  {
   "cell_type": "code",
   "source": [
    "!python -u run.py --train --model_id ID1 --run_id 000 --no-neptune --data_path/new_dataset/power_2.csv"
   ],
   "metadata": {
    "id": "MLrB7psgOx1g"
   },
   "execution_count": null,
   "outputs": []
  },
  {
   "cell_type": "markdown",
   "source": [
    "To optimize the training result, it is recommended to append the most recent 120 (`seq_len + gap_len`) records from the previous dataset (power.csv) to the beginning of the new dataset, thereby adding 116 (`seq_len`) additional data samples for this new dataset."
   ],
   "metadata": {
    "id": "Sf9gNNjCUyyi"
   }
  },
  {
   "cell_type": "markdown",
   "source": [
    "# Inference"
   ],
   "metadata": {
    "id": "xvPgLLL4Ptt4"
   }
  },
  {
   "cell_type": "code",
   "source": [
    "import json\n",
    "import pandas as pd\n",
    "\n",
    "from Experiment.ExpPowerForecasting import inference\n",
    "\n",
    "# prepare historical power output\n",
    "with open('./dataset/generation.json') as f:\n",
    "    target = json.load(f)\n",
    "target = pd.DataFrame.from_dict(target, orient='index')\n",
    "target.index = pd.to_datetime(target.index)\n",
    "\n",
    "# set the start timestamp for inference, here we use the next hour of the last timestamp\n",
    "# in the historical power output as the start time\n",
    "start = (target.index[-1] + pd.DateOffset(hours=1)).replace(minute=0)\n",
    "\n",
    "# set the frequency for inference, here we use 1 minute\n",
    "freq = '1min'\n",
    "\n",
    "# set the time range for inference, length of which must be a multiple of seq_len (12)\n",
    "# here we are trying to predict for the next hour (60 * 1min)\n",
    "y_time = pd.period_range(start=start, periods=5 * 12, freq=freq).to_timestamp()\n",
    "\n",
    "# prepare temperature data\n",
    "temperature_df = pd.read_csv('./dataset/temperature_all.csv', index_col=0).loc[:, ['B']]\n",
    "temperature_df.index = pd.to_datetime(temperature_df.index)\n",
    "\n",
    "# use linear interpolation to down-sample temperature data to 1 minute frequency\n",
    "temperature_df = temperature_df.resample(freq).interpolate(method='time', order=1)\n",
    "\n",
    "# the most recent temperature record must be later than all timestamps in y_time.\n",
    "# since the new temperature data is not available, here I simply make up the data by copying the last entries\n",
    "temperature_df = temperature_df.reindex(temperature_df.index.union(y_time))\n",
    "temperature_df.loc[y_time, :] = temperature_df.iloc[-2 * len(y_time):-len(y_time), :].values\n",
    "\n",
    "# set up the experiment and predict\n",
    "exp = inference(model_id='ID1', run_id='003', itr=3)\n",
    "\n",
    "# the result should be precise to 1 minute, as specified by the freq\n",
    "result_series = exp.predict(y_time=y_time, temperature_df=temperature_df, power_output=target)\n",
    "\n",
    "# to obtain the average forecasted output for each successive 30 minute interval:\n",
    "avrg_result_30min = result_series.resample('30min').mean()"
   ],
   "metadata": {
    "colab": {
     "base_uri": "https://localhost:8080/"
    },
    "id": "tt18_8JkRndk",
    "executionInfo": {
     "status": "ok",
     "timestamp": 1687627381988,
     "user_tz": -60,
     "elapsed": 3437,
     "user": {
      "displayName": "游润洋",
      "userId": "11419507463549379567"
     }
    },
    "outputId": "f9dc4c89-3e3f-4b98-cafc-5060c7c947a9",
    "ExecuteTime": {
     "end_time": "2023-06-26T00:11:02.573958900Z",
     "start_time": "2023-06-26T00:10:54.565862100Z"
    }
   },
   "execution_count": 3,
   "outputs": [
    {
     "name": "stdout",
     "output_type": "stream",
     "text": [
      "Trained model loaded on cuda\n",
      "Previous checkpoint: checkpoint_0.pth\n",
      "Using data ['B', 'target']\n",
      "val/test_len: 30924 | train_len: 92773\n",
      "predict time: 00:00:05\n",
      "\n"
     ]
    }
   ]
  },
  {
   "cell_type": "code",
   "source": [
    "avrg_result_30min, result_series.plot()"
   ],
   "metadata": {
    "colab": {
     "base_uri": "https://localhost:8080/",
     "height": 515
    },
    "id": "Mhe75-OxYe0a",
    "executionInfo": {
     "status": "ok",
     "timestamp": 1687627388942,
     "user_tz": -60,
     "elapsed": 367,
     "user": {
      "displayName": "游润洋",
      "userId": "11419507463549379567"
     }
    },
    "outputId": "a4f55a88-71c3-4213-e2e4-75d740a34fbd",
    "ExecuteTime": {
     "end_time": "2023-06-26T00:11:06.789335200Z",
     "start_time": "2023-06-26T00:11:06.639107500Z"
    }
   },
   "execution_count": 4,
   "outputs": [
    {
     "data": {
      "text/plain": "(2022-06-01 00:00:00    57.941021\n 2022-06-01 00:30:00    34.110691\n Freq: 30T, Name: prediction, dtype: float32,\n <Axes: >)"
     },
     "execution_count": 4,
     "metadata": {},
     "output_type": "execute_result"
    },
    {
     "data": {
      "text/plain": "<Figure size 640x480 with 1 Axes>",
      "image/png": "[encoded data removed]"
     },
     "metadata": {},
     "output_type": "display_data"
    }
   ]
  },
  {
   "cell_type": "code",
   "source": [],
   "metadata": {
    "id": "254OlAlwaxqT"
   },
   "execution_count": null,
   "outputs": []
  }
 ]
}
